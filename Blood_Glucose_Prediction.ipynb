{
  "nbformat": 4,
  "nbformat_minor": 0,
  "metadata": {
    "colab": {
      "provenance": [],
      "gpuType": "T4"
    },
    "kernelspec": {
      "name": "python3",
      "display_name": "Python 3"
    },
    "language_info": {
      "name": "python"
    },
    "accelerator": "GPU"
  },
  "cells": [
    {
      "cell_type": "markdown",
      "source": [
        "# Blood Glucose Prediction"
      ],
      "metadata": {
        "id": "kpAMVXPo3TIZ"
      }
    },
    {
      "cell_type": "markdown",
      "source": [
        "## Data Loading"
      ],
      "metadata": {
        "id": "IOyEN8PL3eYZ"
      }
    },
    {
      "cell_type": "code",
      "source": [
        "import pandas as pd\n",
        "import numpy as np\n",
        "import matplotlib.pyplot as plt\n",
        "import seaborn as sns\n",
        "import warnings\n",
        "warnings.filterwarnings('ignore')"
      ],
      "metadata": {
        "id": "NK116qqt3f2t"
      },
      "execution_count": 1,
      "outputs": []
    },
    {
      "cell_type": "code",
      "source": [
        "df_train = pd.read_csv('/content/train.csv')\n",
        "df_test = pd.read_csv('/content/test.csv')"
      ],
      "metadata": {
        "id": "gUmpHFFr4W46"
      },
      "execution_count": 2,
      "outputs": []
    },
    {
      "cell_type": "markdown",
      "source": [
        "# Exploratory data analysis"
      ],
      "metadata": {
        "id": "plICohhD52iC"
      }
    },
    {
      "cell_type": "code",
      "source": [
        "print(f'Train Data Shape: {df_train.shape}')\n",
        "print(f'Test Data Shape: {df_test.shape}')"
      ],
      "metadata": {
        "colab": {
          "base_uri": "https://localhost:8080/"
        },
        "id": "5lSCWbTb4ihE",
        "outputId": "23297406-3af4-42f8-fb48-22a1352d4b3b"
      },
      "execution_count": 3,
      "outputs": [
        {
          "output_type": "stream",
          "name": "stdout",
          "text": [
            "Train Data Shape: (177024, 508)\n",
            "Test Data Shape: (3644, 507)\n"
          ]
        }
      ]
    },
    {
      "cell_type": "code",
      "source": [
        "print(f'Train data null values: {df_train.isnull().sum()}')\n",
        "print(f'Test data null values: {df_test.isnull().sum()}')"
      ],
      "metadata": {
        "colab": {
          "base_uri": "https://localhost:8080/"
        },
        "id": "8kQtZ7q94sIc",
        "outputId": "0bf21bac-8796-4926-9424-a7b98ea3c36a"
      },
      "execution_count": 7,
      "outputs": [
        {
          "output_type": "stream",
          "name": "stdout",
          "text": [
            "Train data null values: id                    0\n",
            "p_num                 0\n",
            "time                  0\n",
            "bg-5:55           27254\n",
            "bg-5:50           18491\n",
            "                  ...  \n",
            "activity-0:15    174293\n",
            "activity-0:10    174287\n",
            "activity-0:05    174271\n",
            "activity-0:00    174287\n",
            "bg+1:00               0\n",
            "Length: 508, dtype: int64\n",
            "Test data null values: id                  0\n",
            "p_num               0\n",
            "time                0\n",
            "bg-5:55           984\n",
            "bg-5:50           583\n",
            "                 ... \n",
            "activity-0:20    3580\n",
            "activity-0:15    3587\n",
            "activity-0:10    3586\n",
            "activity-0:05    3581\n",
            "activity-0:00    3583\n",
            "Length: 507, dtype: int64\n"
          ]
        }
      ]
    },
    {
      "cell_type": "code",
      "source": [
        "print(f'Train data duplicate values: {df_train.duplicated().sum()}')\n",
        "print(f'Test data duplicate values: {df_test.duplicated().sum()}')"
      ],
      "metadata": {
        "colab": {
          "base_uri": "https://localhost:8080/"
        },
        "id": "xFa0CZi142s8",
        "outputId": "721a4286-4710-4a45-a761-4d1c59875e9a"
      },
      "execution_count": 8,
      "outputs": [
        {
          "output_type": "stream",
          "name": "stdout",
          "text": [
            "Train data duplicate values: 0\n",
            "Test data duplicate values: 0\n"
          ]
        }
      ]
    },
    {
      "cell_type": "code",
      "source": [
        "# Reducing memory of both train and test dataframe\n",
        "\n",
        "def reduce_memory(df):\n",
        "    start_mem = df.memory_usage().sum() / 1024**2\n",
        "\n",
        "    for col in df.columns:\n",
        "        col_type = df[col].dtype\n",
        "\n",
        "        if col_type.kind in ['i', 'u', 'f']:  # int, unsigned int, float\n",
        "            df[col] = pd.to_numeric(df[col], downcast='integer' if col_type.kind in ['i', 'u'] else 'float')\n",
        "        elif col_type == 'object':\n",
        "            df[col] = df[col].astype('category')\n",
        "\n",
        "    end_mem = df.memory_usage().sum() / 1024**2\n",
        "    print(f\"Memory usage reduced from {start_mem:.2f} MB to {end_mem:.2f} MB \"\n",
        "          f\"({(100 * (start_mem - end_mem) / start_mem):.1f}% reduction)\")\n",
        "\n",
        "    return df"
      ],
      "metadata": {
        "id": "n-DRaBtt5Meb"
      },
      "execution_count": 9,
      "outputs": []
    },
    {
      "cell_type": "code",
      "source": [
        "df_train = reduce_memory(df_train)\n",
        "df_test = reduce_memory(df_test)"
      ],
      "metadata": {
        "colab": {
          "base_uri": "https://localhost:8080/"
        },
        "id": "KmxWwam55f1W",
        "outputId": "0ad14095-74aa-4dd7-a135-27e3ccf57355"
      },
      "execution_count": 11,
      "outputs": [
        {
          "output_type": "stream",
          "name": "stdout",
          "text": [
            "Memory usage reduced from 686.10 MB to 311.18 MB (54.6% reduction)\n",
            "Memory usage reduced from 14.10 MB to 6.46 MB (54.2% reduction)\n"
          ]
        }
      ]
    },
    {
      "cell_type": "markdown",
      "source": [
        "## Data Cleaning & Preprocessing"
      ],
      "metadata": {
        "id": "4-mXNQkp6Iy6"
      }
    },
    {
      "cell_type": "code",
      "source": [
        "# Encoding categorical variables\n",
        "\n",
        "from sklearn.preprocessing import LabelEncoder\n",
        "categorical_columns = df_train.select_dtypes(include=\"category\").columns\n",
        "\n",
        "for col in categorical_columns:\n",
        "    le = LabelEncoder()\n",
        "    df_train[col] = le.fit_transform(df_train[col])\n",
        "    df_test[col] = le.fit_transform(df_test[col])"
      ],
      "metadata": {
        "id": "iLevDghQ6KHR"
      },
      "execution_count": 12,
      "outputs": []
    },
    {
      "cell_type": "code",
      "source": [
        "# Dropping columns with more than 60% missing values\n",
        "\n",
        "numeric_columns = df_train.select_dtypes(\"number\")\n",
        "df_train = df_train.dropna(thresh=int(0.6 * len(df_train)), axis=1)"
      ],
      "metadata": {
        "id": "1Wu9Smkx6XVP"
      },
      "execution_count": 13,
      "outputs": []
    },
    {
      "cell_type": "code",
      "source": [
        "# Identifying and dropping columns with low variances\n",
        "\n",
        "variances = numeric_columns.var()\n",
        "low_variance_cols = variances[variances < 1].index.tolist()\n",
        "df_train = df_train.drop(columns=low_variance_cols)\n",
        "print(\"Dropped columns with low variance:\", low_variance_cols)"
      ],
      "metadata": {
        "id": "vqjUERvr6mac"
      },
      "execution_count": 14,
      "outputs": []
    },
    {
      "cell_type": "code",
      "source": [
        "# Selected columns\n",
        "\n",
        "selected_columns = [\n",
        "     \"bg-2:45\", \"bg-2:30\", \"bg-2:15\", \"bg-2:00\", \"bg-1:45\",\n",
        "    \"bg-1:30\", \"bg-1:15\",\"bg-1:00\", \"bg-0:45\", \"bg-0:30\",\n",
        "    \"bg-0:15\", \"bg-0:00\", \"bg+1:00\",\n",
        "    \"activity-3:35\", \"activity-4:05\", \"activity-3:50\",\n",
        "    \"activity-4:20\", \"activity-4:15\", \"activity-4:25\",\n",
        "    \"activity-3:05\", \"activity-3:20\", \"activity-0:05\",\n",
        "    \"activity-2:50\", \"activity-2:35\", \"activity-2:05\",\n",
        "    \"activity-0:20\", \"activity-0:15\", \"activity-0:10\",\n",
        "    \"activity-0:00\", \"activity-4:35\", \"activity-4:30\",\n",
        "    \"id\", \"activity-4:40\", \"activity-5:30\", \"time\",\n",
        "    \"p_num\", \"activity-5:55\", \"activity-5:50\",\n",
        "    \"activity-5:45\", \"activity-5:40\", \"activity-5:35\",\n",
        "    \"activity-5:25\", \"activity-4:45\", \"activity-5:20\",\n",
        "    \"activity-5:15\", \"activity-5:10\", \"activity-5:05\",\n",
        "    \"activity-5:00\", \"activity-4:55\", \"activity-4:50\",\n",
        "]\n",
        "\n",
        "df_train = df_train[selected_columns]\n",
        "df_test = df_test[[col for col in selected_columns if col in df_test.columns]]"
      ],
      "metadata": {
        "id": "RfBBXiQv6_dD"
      },
      "execution_count": 18,
      "outputs": []
    },
    {
      "cell_type": "code",
      "source": [
        "# Imputeing Missing values with KNNImputer\n",
        "\n",
        "from sklearn.impute import KNNImputer\n",
        "import gc\n",
        "\n",
        "numeric_trainColl = df_train.select_dtypes(\"number\")\n",
        "numeric_testColl = df_test.select_dtypes(\"number\")\n",
        "\n",
        "imputer = KNNImputer(n_neighbors=5)\n",
        "train_imputed = imputer.fit_transform(numeric_trainColl)\n",
        "train = pd.DataFrame(train_imputed, columns=numeric_trainColl.columns)\n",
        "\n",
        "imputer = KNNImputer(n_neighbors=5)\n",
        "test_imputed = imputer.fit_transform(numeric_testColl)\n",
        "test = pd.DataFrame(test_imputed, columns=numeric_testColl.columns)\n",
        "gc.collect()\n",
        "\n",
        "del numeric_trainColl, numeric_testColl, train_imputed, test_imputed\n",
        "\n",
        "print(\"Remaining missing values in train:\", train.isnull().sum().sum())\n",
        "print(\"Remaining missing values in test:\", test.isnull().sum().sum())"
      ],
      "metadata": {
        "colab": {
          "base_uri": "https://localhost:8080/"
        },
        "id": "kR6l6SZ07LPa",
        "outputId": "ffa75bfc-3596-4a7b-86df-f1bd78738f55"
      },
      "execution_count": 19,
      "outputs": [
        {
          "output_type": "stream",
          "name": "stdout",
          "text": [
            "Remaining missing values in train: 0\n",
            "Remaining missing values in test: 0\n"
          ]
        }
      ]
    },
    {
      "cell_type": "code",
      "source": [
        "# Removing outliers using IQR\n",
        "\n",
        "Q1 = train['bg+1:00'].quantile(0.25)\n",
        "Q3 = train['bg+1:00'].quantile(0.75)\n",
        "IQR = Q3 - Q1\n",
        "lower_bound = Q1 - 1.5 * IQR\n",
        "upper_bound = Q3 + 1.5 * IQR\n",
        "\n",
        "df_cleaned = train[(train['bg+1:00'] >= lower_bound) & (train['bg+1:00'] <= upper_bound)]\n",
        "gc.collect()\n",
        "\n",
        "del Q1, Q3, IQR, lower_bound, upper_bound"
      ],
      "metadata": {
        "id": "tqw59ieG7cg-"
      },
      "execution_count": 20,
      "outputs": []
    },
    {
      "cell_type": "code",
      "source": [
        "from sklearn.model_selection import train_test_split\n",
        "\n",
        "X = df_cleaned.drop(columns=\"bg+1:00\")\n",
        "y = df_cleaned['bg+1:00']"
      ],
      "metadata": {
        "id": "1sGowH2X98-K"
      },
      "execution_count": null,
      "outputs": []
    },
    {
      "cell_type": "code",
      "source": [
        "X_train, X_test, y_train, y_test = train_test_split(X, y, test_size=0.2, random_state=42)"
      ],
      "metadata": {
        "id": "Id4nokou99ng"
      },
      "execution_count": 24,
      "outputs": []
    },
    {
      "cell_type": "code",
      "source": [
        "from sklearn.preprocessing import StandardScaler\n",
        "\n",
        "scaler = StandardScaler()\n",
        "X_train_scaled = scaler.fit_transform(X_train)\n",
        "X_test_scaled = scaler.transform(X_test)"
      ],
      "metadata": {
        "id": "3xcsOeWT-HXA"
      },
      "execution_count": 25,
      "outputs": []
    },
    {
      "cell_type": "markdown",
      "source": [
        "## Model Building & Evaluation"
      ],
      "metadata": {
        "id": "QEQRE7J49xGZ"
      }
    },
    {
      "cell_type": "code",
      "source": [
        "from sklearn.metrics import mean_squared_error\n",
        "from keras.models import Sequential\n",
        "from tensorflow.keras.layers import Dense, Dropout\n",
        "from tensorflow.keras.optimizers import Adam\n",
        "from keras.callbacks import EarlyStopping,ReduceLROnPlateau"
      ],
      "metadata": {
        "id": "limEYVir9tCo"
      },
      "execution_count": 22,
      "outputs": []
    },
    {
      "cell_type": "code",
      "source": [
        "ann_model = Sequential()\n",
        "ann_model.add(Dense(64, input_dim=X_train_scaled.shape[1], activation='relu'))\n",
        "ann_model.add(Dropout(0.3))\n",
        "ann_model.add(Dense(32, activation='relu'))\n",
        "ann_model.add(Dropout(0.3))\n",
        "ann_model.add(Dense(1))"
      ],
      "metadata": {
        "id": "iJp_B0bD95P8"
      },
      "execution_count": 26,
      "outputs": []
    },
    {
      "cell_type": "code",
      "source": [
        "ann_model.compile(optimizer=Adam(learning_rate=0.001), loss='mean_squared_error')"
      ],
      "metadata": {
        "id": "hV19GZM8-QOv"
      },
      "execution_count": 36,
      "outputs": []
    },
    {
      "cell_type": "code",
      "source": [
        "ann_model.summary()"
      ],
      "metadata": {
        "colab": {
          "base_uri": "https://localhost:8080/",
          "height": 301
        },
        "id": "5l3ndH8Y-S4z",
        "outputId": "c93f147f-1c1f-4c04-9bec-d0ba55925606"
      },
      "execution_count": 29,
      "outputs": [
        {
          "output_type": "display_data",
          "data": {
            "text/plain": [
              "\u001b[1mModel: \"sequential\"\u001b[0m\n"
            ],
            "text/html": [
              "<pre style=\"white-space:pre;overflow-x:auto;line-height:normal;font-family:Menlo,'DejaVu Sans Mono',consolas,'Courier New',monospace\"><span style=\"font-weight: bold\">Model: \"sequential\"</span>\n",
              "</pre>\n"
            ]
          },
          "metadata": {}
        },
        {
          "output_type": "display_data",
          "data": {
            "text/plain": [
              "┏━━━━━━━━━━━━━━━━━━━━━━━━━━━━━━━━━━━━━━┳━━━━━━━━━━━━━━━━━━━━━━━━━━━━━┳━━━━━━━━━━━━━━━━━┓\n",
              "┃\u001b[1m \u001b[0m\u001b[1mLayer (type)                        \u001b[0m\u001b[1m \u001b[0m┃\u001b[1m \u001b[0m\u001b[1mOutput Shape               \u001b[0m\u001b[1m \u001b[0m┃\u001b[1m \u001b[0m\u001b[1m        Param #\u001b[0m\u001b[1m \u001b[0m┃\n",
              "┡━━━━━━━━━━━━━━━━━━━━━━━━━━━━━━━━━━━━━━╇━━━━━━━━━━━━━━━━━━━━━━━━━━━━━╇━━━━━━━━━━━━━━━━━┩\n",
              "│ dense (\u001b[38;5;33mDense\u001b[0m)                        │ (\u001b[38;5;45mNone\u001b[0m, \u001b[38;5;34m64\u001b[0m)                  │           \u001b[38;5;34m3,200\u001b[0m │\n",
              "├──────────────────────────────────────┼─────────────────────────────┼─────────────────┤\n",
              "│ dropout (\u001b[38;5;33mDropout\u001b[0m)                    │ (\u001b[38;5;45mNone\u001b[0m, \u001b[38;5;34m64\u001b[0m)                  │               \u001b[38;5;34m0\u001b[0m │\n",
              "├──────────────────────────────────────┼─────────────────────────────┼─────────────────┤\n",
              "│ dense_1 (\u001b[38;5;33mDense\u001b[0m)                      │ (\u001b[38;5;45mNone\u001b[0m, \u001b[38;5;34m32\u001b[0m)                  │           \u001b[38;5;34m2,080\u001b[0m │\n",
              "├──────────────────────────────────────┼─────────────────────────────┼─────────────────┤\n",
              "│ dropout_1 (\u001b[38;5;33mDropout\u001b[0m)                  │ (\u001b[38;5;45mNone\u001b[0m, \u001b[38;5;34m32\u001b[0m)                  │               \u001b[38;5;34m0\u001b[0m │\n",
              "├──────────────────────────────────────┼─────────────────────────────┼─────────────────┤\n",
              "│ dense_2 (\u001b[38;5;33mDense\u001b[0m)                      │ (\u001b[38;5;45mNone\u001b[0m, \u001b[38;5;34m1\u001b[0m)                   │              \u001b[38;5;34m33\u001b[0m │\n",
              "└──────────────────────────────────────┴─────────────────────────────┴─────────────────┘\n"
            ],
            "text/html": [
              "<pre style=\"white-space:pre;overflow-x:auto;line-height:normal;font-family:Menlo,'DejaVu Sans Mono',consolas,'Courier New',monospace\">┏━━━━━━━━━━━━━━━━━━━━━━━━━━━━━━━━━━━━━━┳━━━━━━━━━━━━━━━━━━━━━━━━━━━━━┳━━━━━━━━━━━━━━━━━┓\n",
              "┃<span style=\"font-weight: bold\"> Layer (type)                         </span>┃<span style=\"font-weight: bold\"> Output Shape                </span>┃<span style=\"font-weight: bold\">         Param # </span>┃\n",
              "┡━━━━━━━━━━━━━━━━━━━━━━━━━━━━━━━━━━━━━━╇━━━━━━━━━━━━━━━━━━━━━━━━━━━━━╇━━━━━━━━━━━━━━━━━┩\n",
              "│ dense (<span style=\"color: #0087ff; text-decoration-color: #0087ff\">Dense</span>)                        │ (<span style=\"color: #00d7ff; text-decoration-color: #00d7ff\">None</span>, <span style=\"color: #00af00; text-decoration-color: #00af00\">64</span>)                  │           <span style=\"color: #00af00; text-decoration-color: #00af00\">3,200</span> │\n",
              "├──────────────────────────────────────┼─────────────────────────────┼─────────────────┤\n",
              "│ dropout (<span style=\"color: #0087ff; text-decoration-color: #0087ff\">Dropout</span>)                    │ (<span style=\"color: #00d7ff; text-decoration-color: #00d7ff\">None</span>, <span style=\"color: #00af00; text-decoration-color: #00af00\">64</span>)                  │               <span style=\"color: #00af00; text-decoration-color: #00af00\">0</span> │\n",
              "├──────────────────────────────────────┼─────────────────────────────┼─────────────────┤\n",
              "│ dense_1 (<span style=\"color: #0087ff; text-decoration-color: #0087ff\">Dense</span>)                      │ (<span style=\"color: #00d7ff; text-decoration-color: #00d7ff\">None</span>, <span style=\"color: #00af00; text-decoration-color: #00af00\">32</span>)                  │           <span style=\"color: #00af00; text-decoration-color: #00af00\">2,080</span> │\n",
              "├──────────────────────────────────────┼─────────────────────────────┼─────────────────┤\n",
              "│ dropout_1 (<span style=\"color: #0087ff; text-decoration-color: #0087ff\">Dropout</span>)                  │ (<span style=\"color: #00d7ff; text-decoration-color: #00d7ff\">None</span>, <span style=\"color: #00af00; text-decoration-color: #00af00\">32</span>)                  │               <span style=\"color: #00af00; text-decoration-color: #00af00\">0</span> │\n",
              "├──────────────────────────────────────┼─────────────────────────────┼─────────────────┤\n",
              "│ dense_2 (<span style=\"color: #0087ff; text-decoration-color: #0087ff\">Dense</span>)                      │ (<span style=\"color: #00d7ff; text-decoration-color: #00d7ff\">None</span>, <span style=\"color: #00af00; text-decoration-color: #00af00\">1</span>)                   │              <span style=\"color: #00af00; text-decoration-color: #00af00\">33</span> │\n",
              "└──────────────────────────────────────┴─────────────────────────────┴─────────────────┘\n",
              "</pre>\n"
            ]
          },
          "metadata": {}
        },
        {
          "output_type": "display_data",
          "data": {
            "text/plain": [
              "\u001b[1m Total params: \u001b[0m\u001b[38;5;34m5,313\u001b[0m (20.75 KB)\n"
            ],
            "text/html": [
              "<pre style=\"white-space:pre;overflow-x:auto;line-height:normal;font-family:Menlo,'DejaVu Sans Mono',consolas,'Courier New',monospace\"><span style=\"font-weight: bold\"> Total params: </span><span style=\"color: #00af00; text-decoration-color: #00af00\">5,313</span> (20.75 KB)\n",
              "</pre>\n"
            ]
          },
          "metadata": {}
        },
        {
          "output_type": "display_data",
          "data": {
            "text/plain": [
              "\u001b[1m Trainable params: \u001b[0m\u001b[38;5;34m5,313\u001b[0m (20.75 KB)\n"
            ],
            "text/html": [
              "<pre style=\"white-space:pre;overflow-x:auto;line-height:normal;font-family:Menlo,'DejaVu Sans Mono',consolas,'Courier New',monospace\"><span style=\"font-weight: bold\"> Trainable params: </span><span style=\"color: #00af00; text-decoration-color: #00af00\">5,313</span> (20.75 KB)\n",
              "</pre>\n"
            ]
          },
          "metadata": {}
        },
        {
          "output_type": "display_data",
          "data": {
            "text/plain": [
              "\u001b[1m Non-trainable params: \u001b[0m\u001b[38;5;34m0\u001b[0m (0.00 B)\n"
            ],
            "text/html": [
              "<pre style=\"white-space:pre;overflow-x:auto;line-height:normal;font-family:Menlo,'DejaVu Sans Mono',consolas,'Courier New',monospace\"><span style=\"font-weight: bold\"> Non-trainable params: </span><span style=\"color: #00af00; text-decoration-color: #00af00\">0</span> (0.00 B)\n",
              "</pre>\n"
            ]
          },
          "metadata": {}
        }
      ]
    },
    {
      "cell_type": "code",
      "source": [
        "early_stopping = EarlyStopping(monitor='val_loss', patience=10, restore_best_weights=True)\n",
        "lr_scheduler = ReduceLROnPlateau(monitor='val_loss', factor=0.5, patience=5, min_lr=1e-6)"
      ],
      "metadata": {
        "id": "y2JpZFl4-Ubj"
      },
      "execution_count": 30,
      "outputs": []
    },
    {
      "cell_type": "code",
      "source": [
        "history = ann_model.fit(X_train_scaled, y_train, epochs=100, batch_size=10,\n",
        "                        validation_split=0.2, callbacks=[early_stopping, lr_scheduler])"
      ],
      "metadata": {
        "colab": {
          "base_uri": "https://localhost:8080/"
        },
        "id": "trZZ43cf-XyB",
        "outputId": "b55acb57-a31f-472d-b5af-a3b1704801d5"
      },
      "execution_count": 37,
      "outputs": [
        {
          "output_type": "stream",
          "name": "stdout",
          "text": [
            "Epoch 1/100\n",
            "\u001b[1m11043/11043\u001b[0m \u001b[32m━━━━━━━━━━━━━━━━━━━━\u001b[0m\u001b[37m\u001b[0m \u001b[1m25s\u001b[0m 2ms/step - loss: 4.0947 - val_loss: 3.6574 - learning_rate: 0.0010\n",
            "Epoch 2/100\n",
            "\u001b[1m11043/11043\u001b[0m \u001b[32m━━━━━━━━━━━━━━━━━━━━\u001b[0m\u001b[37m\u001b[0m \u001b[1m38s\u001b[0m 2ms/step - loss: 3.9629 - val_loss: 3.6469 - learning_rate: 0.0010\n",
            "Epoch 3/100\n",
            "\u001b[1m11043/11043\u001b[0m \u001b[32m━━━━━━━━━━━━━━━━━━━━\u001b[0m\u001b[37m\u001b[0m \u001b[1m41s\u001b[0m 2ms/step - loss: 3.8366 - val_loss: 3.6002 - learning_rate: 0.0010\n",
            "Epoch 4/100\n",
            "\u001b[1m11043/11043\u001b[0m \u001b[32m━━━━━━━━━━━━━━━━━━━━\u001b[0m\u001b[37m\u001b[0m \u001b[1m21s\u001b[0m 2ms/step - loss: 3.7959 - val_loss: 3.6280 - learning_rate: 0.0010\n",
            "Epoch 5/100\n",
            "\u001b[1m11043/11043\u001b[0m \u001b[32m━━━━━━━━━━━━━━━━━━━━\u001b[0m\u001b[37m\u001b[0m \u001b[1m24s\u001b[0m 2ms/step - loss: 3.7745 - val_loss: 3.5896 - learning_rate: 0.0010\n",
            "Epoch 6/100\n",
            "\u001b[1m11043/11043\u001b[0m \u001b[32m━━━━━━━━━━━━━━━━━━━━\u001b[0m\u001b[37m\u001b[0m \u001b[1m41s\u001b[0m 2ms/step - loss: 3.7941 - val_loss: 3.5898 - learning_rate: 0.0010\n",
            "Epoch 7/100\n",
            "\u001b[1m11043/11043\u001b[0m \u001b[32m━━━━━━━━━━━━━━━━━━━━\u001b[0m\u001b[37m\u001b[0m \u001b[1m39s\u001b[0m 2ms/step - loss: 3.7694 - val_loss: 3.5406 - learning_rate: 0.0010\n",
            "Epoch 8/100\n",
            "\u001b[1m11043/11043\u001b[0m \u001b[32m━━━━━━━━━━━━━━━━━━━━\u001b[0m\u001b[37m\u001b[0m \u001b[1m41s\u001b[0m 2ms/step - loss: 3.7433 - val_loss: 3.6163 - learning_rate: 0.0010\n",
            "Epoch 9/100\n",
            "\u001b[1m11043/11043\u001b[0m \u001b[32m━━━━━━━━━━━━━━━━━━━━\u001b[0m\u001b[37m\u001b[0m \u001b[1m41s\u001b[0m 2ms/step - loss: 3.7409 - val_loss: 3.5463 - learning_rate: 0.0010\n",
            "Epoch 10/100\n",
            "\u001b[1m11043/11043\u001b[0m \u001b[32m━━━━━━━━━━━━━━━━━━━━\u001b[0m\u001b[37m\u001b[0m \u001b[1m20s\u001b[0m 2ms/step - loss: 3.7491 - val_loss: 3.5569 - learning_rate: 0.0010\n",
            "Epoch 11/100\n",
            "\u001b[1m11043/11043\u001b[0m \u001b[32m━━━━━━━━━━━━━━━━━━━━\u001b[0m\u001b[37m\u001b[0m \u001b[1m24s\u001b[0m 2ms/step - loss: 3.7396 - val_loss: 3.5860 - learning_rate: 0.0010\n",
            "Epoch 12/100\n",
            "\u001b[1m11043/11043\u001b[0m \u001b[32m━━━━━━━━━━━━━━━━━━━━\u001b[0m\u001b[37m\u001b[0m \u001b[1m39s\u001b[0m 2ms/step - loss: 3.7373 - val_loss: 3.5726 - learning_rate: 0.0010\n",
            "Epoch 13/100\n",
            "\u001b[1m11043/11043\u001b[0m \u001b[32m━━━━━━━━━━━━━━━━━━━━\u001b[0m\u001b[37m\u001b[0m \u001b[1m42s\u001b[0m 2ms/step - loss: 3.7157 - val_loss: 3.5387 - learning_rate: 5.0000e-04\n",
            "Epoch 14/100\n",
            "\u001b[1m11043/11043\u001b[0m \u001b[32m━━━━━━━━━━━━━━━━━━━━\u001b[0m\u001b[37m\u001b[0m \u001b[1m22s\u001b[0m 2ms/step - loss: 3.7061 - val_loss: 3.5144 - learning_rate: 5.0000e-04\n",
            "Epoch 15/100\n",
            "\u001b[1m11043/11043\u001b[0m \u001b[32m━━━━━━━━━━━━━━━━━━━━\u001b[0m\u001b[37m\u001b[0m \u001b[1m41s\u001b[0m 2ms/step - loss: 3.6736 - val_loss: 3.5113 - learning_rate: 5.0000e-04\n",
            "Epoch 16/100\n",
            "\u001b[1m11043/11043\u001b[0m \u001b[32m━━━━━━━━━━━━━━━━━━━━\u001b[0m\u001b[37m\u001b[0m \u001b[1m41s\u001b[0m 2ms/step - loss: 3.6463 - val_loss: 3.4932 - learning_rate: 5.0000e-04\n",
            "Epoch 17/100\n",
            "\u001b[1m11043/11043\u001b[0m \u001b[32m━━━━━━━━━━━━━━━━━━━━\u001b[0m\u001b[37m\u001b[0m \u001b[1m21s\u001b[0m 2ms/step - loss: 3.6570 - val_loss: 3.5071 - learning_rate: 5.0000e-04\n",
            "Epoch 18/100\n",
            "\u001b[1m11043/11043\u001b[0m \u001b[32m━━━━━━━━━━━━━━━━━━━━\u001b[0m\u001b[37m\u001b[0m \u001b[1m23s\u001b[0m 2ms/step - loss: 3.6524 - val_loss: 3.4972 - learning_rate: 5.0000e-04\n",
            "Epoch 19/100\n",
            "\u001b[1m11043/11043\u001b[0m \u001b[32m━━━━━━━━━━━━━━━━━━━━\u001b[0m\u001b[37m\u001b[0m \u001b[1m21s\u001b[0m 2ms/step - loss: 3.6548 - val_loss: 3.5068 - learning_rate: 5.0000e-04\n",
            "Epoch 20/100\n",
            "\u001b[1m11043/11043\u001b[0m \u001b[32m━━━━━━━━━━━━━━━━━━━━\u001b[0m\u001b[37m\u001b[0m \u001b[1m43s\u001b[0m 2ms/step - loss: 3.6465 - val_loss: 3.5112 - learning_rate: 5.0000e-04\n",
            "Epoch 21/100\n",
            "\u001b[1m11043/11043\u001b[0m \u001b[32m━━━━━━━━━━━━━━━━━━━━\u001b[0m\u001b[37m\u001b[0m \u001b[1m21s\u001b[0m 2ms/step - loss: 3.6570 - val_loss: 3.4958 - learning_rate: 5.0000e-04\n",
            "Epoch 22/100\n",
            "\u001b[1m11043/11043\u001b[0m \u001b[32m━━━━━━━━━━━━━━━━━━━━\u001b[0m\u001b[37m\u001b[0m \u001b[1m21s\u001b[0m 2ms/step - loss: 3.6657 - val_loss: 3.4916 - learning_rate: 2.5000e-04\n",
            "Epoch 23/100\n",
            "\u001b[1m11043/11043\u001b[0m \u001b[32m━━━━━━━━━━━━━━━━━━━━\u001b[0m\u001b[37m\u001b[0m \u001b[1m41s\u001b[0m 2ms/step - loss: 3.6323 - val_loss: 3.4753 - learning_rate: 2.5000e-04\n",
            "Epoch 24/100\n",
            "\u001b[1m11043/11043\u001b[0m \u001b[32m━━━━━━━━━━━━━━━━━━━━\u001b[0m\u001b[37m\u001b[0m \u001b[1m42s\u001b[0m 2ms/step - loss: 3.6181 - val_loss: 3.4895 - learning_rate: 2.5000e-04\n",
            "Epoch 25/100\n",
            "\u001b[1m11043/11043\u001b[0m \u001b[32m━━━━━━━━━━━━━━━━━━━━\u001b[0m\u001b[37m\u001b[0m \u001b[1m41s\u001b[0m 2ms/step - loss: 3.6345 - val_loss: 3.4956 - learning_rate: 2.5000e-04\n",
            "Epoch 26/100\n",
            "\u001b[1m11043/11043\u001b[0m \u001b[32m━━━━━━━━━━━━━━━━━━━━\u001b[0m\u001b[37m\u001b[0m \u001b[1m21s\u001b[0m 2ms/step - loss: 3.5669 - val_loss: 3.4856 - learning_rate: 2.5000e-04\n",
            "Epoch 27/100\n",
            "\u001b[1m11043/11043\u001b[0m \u001b[32m━━━━━━━━━━━━━━━━━━━━\u001b[0m\u001b[37m\u001b[0m \u001b[1m41s\u001b[0m 2ms/step - loss: 3.6220 - val_loss: 3.4599 - learning_rate: 2.5000e-04\n",
            "Epoch 28/100\n",
            "\u001b[1m11043/11043\u001b[0m \u001b[32m━━━━━━━━━━━━━━━━━━━━\u001b[0m\u001b[37m\u001b[0m \u001b[1m41s\u001b[0m 2ms/step - loss: 3.6249 - val_loss: 3.4768 - learning_rate: 2.5000e-04\n",
            "Epoch 29/100\n",
            "\u001b[1m11043/11043\u001b[0m \u001b[32m━━━━━━━━━━━━━━━━━━━━\u001b[0m\u001b[37m\u001b[0m \u001b[1m24s\u001b[0m 2ms/step - loss: 3.6086 - val_loss: 3.4664 - learning_rate: 2.5000e-04\n",
            "Epoch 30/100\n",
            "\u001b[1m11043/11043\u001b[0m \u001b[32m━━━━━━━━━━━━━━━━━━━━\u001b[0m\u001b[37m\u001b[0m \u001b[1m23s\u001b[0m 2ms/step - loss: 3.6008 - val_loss: 3.4704 - learning_rate: 2.5000e-04\n",
            "Epoch 31/100\n",
            "\u001b[1m11043/11043\u001b[0m \u001b[32m━━━━━━━━━━━━━━━━━━━━\u001b[0m\u001b[37m\u001b[0m \u001b[1m41s\u001b[0m 2ms/step - loss: 3.6253 - val_loss: 3.4781 - learning_rate: 2.5000e-04\n",
            "Epoch 32/100\n",
            "\u001b[1m11043/11043\u001b[0m \u001b[32m━━━━━━━━━━━━━━━━━━━━\u001b[0m\u001b[37m\u001b[0m \u001b[1m39s\u001b[0m 2ms/step - loss: 3.6289 - val_loss: 3.4654 - learning_rate: 2.5000e-04\n",
            "Epoch 33/100\n",
            "\u001b[1m11043/11043\u001b[0m \u001b[32m━━━━━━━━━━━━━━━━━━━━\u001b[0m\u001b[37m\u001b[0m \u001b[1m23s\u001b[0m 2ms/step - loss: 3.5956 - val_loss: 3.4619 - learning_rate: 1.2500e-04\n",
            "Epoch 34/100\n",
            "\u001b[1m11043/11043\u001b[0m \u001b[32m━━━━━━━━━━━━━━━━━━━━\u001b[0m\u001b[37m\u001b[0m \u001b[1m22s\u001b[0m 2ms/step - loss: 3.5853 - val_loss: 3.4624 - learning_rate: 1.2500e-04\n",
            "Epoch 35/100\n",
            "\u001b[1m11043/11043\u001b[0m \u001b[32m━━━━━━━━━━━━━━━━━━━━\u001b[0m\u001b[37m\u001b[0m \u001b[1m42s\u001b[0m 2ms/step - loss: 3.5881 - val_loss: 3.4658 - learning_rate: 1.2500e-04\n",
            "Epoch 36/100\n",
            "\u001b[1m11043/11043\u001b[0m \u001b[32m━━━━━━━━━━━━━━━━━━━━\u001b[0m\u001b[37m\u001b[0m \u001b[1m21s\u001b[0m 2ms/step - loss: 3.6024 - val_loss: 3.4595 - learning_rate: 1.2500e-04\n",
            "Epoch 37/100\n",
            "\u001b[1m11043/11043\u001b[0m \u001b[32m━━━━━━━━━━━━━━━━━━━━\u001b[0m\u001b[37m\u001b[0m \u001b[1m41s\u001b[0m 2ms/step - loss: 3.5761 - val_loss: 3.4724 - learning_rate: 1.2500e-04\n",
            "Epoch 38/100\n",
            "\u001b[1m11043/11043\u001b[0m \u001b[32m━━━━━━━━━━━━━━━━━━━━\u001b[0m\u001b[37m\u001b[0m \u001b[1m43s\u001b[0m 2ms/step - loss: 3.5899 - val_loss: 3.4689 - learning_rate: 1.2500e-04\n",
            "Epoch 39/100\n",
            "\u001b[1m11043/11043\u001b[0m \u001b[32m━━━━━━━━━━━━━━━━━━━━\u001b[0m\u001b[37m\u001b[0m \u001b[1m21s\u001b[0m 2ms/step - loss: 3.5954 - val_loss: 3.4559 - learning_rate: 1.2500e-04\n",
            "Epoch 40/100\n",
            "\u001b[1m11043/11043\u001b[0m \u001b[32m━━━━━━━━━━━━━━━━━━━━\u001b[0m\u001b[37m\u001b[0m \u001b[1m22s\u001b[0m 2ms/step - loss: 3.5718 - val_loss: 3.4678 - learning_rate: 1.2500e-04\n",
            "Epoch 41/100\n",
            "\u001b[1m11043/11043\u001b[0m \u001b[32m━━━━━━━━━━━━━━━━━━━━\u001b[0m\u001b[37m\u001b[0m \u001b[1m23s\u001b[0m 2ms/step - loss: 3.5641 - val_loss: 3.4573 - learning_rate: 1.2500e-04\n",
            "Epoch 42/100\n",
            "\u001b[1m11043/11043\u001b[0m \u001b[32m━━━━━━━━━━━━━━━━━━━━\u001b[0m\u001b[37m\u001b[0m \u001b[1m23s\u001b[0m 2ms/step - loss: 3.5662 - val_loss: 3.4565 - learning_rate: 1.2500e-04\n",
            "Epoch 43/100\n",
            "\u001b[1m11043/11043\u001b[0m \u001b[32m━━━━━━━━━━━━━━━━━━━━\u001b[0m\u001b[37m\u001b[0m \u001b[1m39s\u001b[0m 2ms/step - loss: 3.5512 - val_loss: 3.4557 - learning_rate: 1.2500e-04\n",
            "Epoch 44/100\n",
            "\u001b[1m11043/11043\u001b[0m \u001b[32m━━━━━━━━━━━━━━━━━━━━\u001b[0m\u001b[37m\u001b[0m \u001b[1m23s\u001b[0m 2ms/step - loss: 3.5581 - val_loss: 3.4487 - learning_rate: 1.2500e-04\n",
            "Epoch 45/100\n",
            "\u001b[1m11043/11043\u001b[0m \u001b[32m━━━━━━━━━━━━━━━━━━━━\u001b[0m\u001b[37m\u001b[0m \u001b[1m41s\u001b[0m 2ms/step - loss: 3.5657 - val_loss: 3.4540 - learning_rate: 1.2500e-04\n",
            "Epoch 46/100\n",
            "\u001b[1m11043/11043\u001b[0m \u001b[32m━━━━━━━━━━━━━━━━━━━━\u001b[0m\u001b[37m\u001b[0m \u001b[1m41s\u001b[0m 2ms/step - loss: 3.5938 - val_loss: 3.4687 - learning_rate: 1.2500e-04\n",
            "Epoch 47/100\n",
            "\u001b[1m11043/11043\u001b[0m \u001b[32m━━━━━━━━━━━━━━━━━━━━\u001b[0m\u001b[37m\u001b[0m \u001b[1m41s\u001b[0m 2ms/step - loss: 3.5910 - val_loss: 3.4514 - learning_rate: 1.2500e-04\n",
            "Epoch 48/100\n",
            "\u001b[1m11043/11043\u001b[0m \u001b[32m━━━━━━━━━━━━━━━━━━━━\u001b[0m\u001b[37m\u001b[0m \u001b[1m21s\u001b[0m 2ms/step - loss: 3.5636 - val_loss: 3.4607 - learning_rate: 1.2500e-04\n",
            "Epoch 49/100\n",
            "\u001b[1m11043/11043\u001b[0m \u001b[32m━━━━━━━━━━━━━━━━━━━━\u001b[0m\u001b[37m\u001b[0m \u001b[1m22s\u001b[0m 2ms/step - loss: 3.6052 - val_loss: 3.4600 - learning_rate: 1.2500e-04\n",
            "Epoch 50/100\n",
            "\u001b[1m11043/11043\u001b[0m \u001b[32m━━━━━━━━━━━━━━━━━━━━\u001b[0m\u001b[37m\u001b[0m \u001b[1m41s\u001b[0m 2ms/step - loss: 3.6086 - val_loss: 3.4591 - learning_rate: 6.2500e-05\n",
            "Epoch 51/100\n",
            "\u001b[1m11043/11043\u001b[0m \u001b[32m━━━━━━━━━━━━━━━━━━━━\u001b[0m\u001b[37m\u001b[0m \u001b[1m21s\u001b[0m 2ms/step - loss: 3.5588 - val_loss: 3.4431 - learning_rate: 6.2500e-05\n",
            "Epoch 52/100\n",
            "\u001b[1m11043/11043\u001b[0m \u001b[32m━━━━━━━━━━━━━━━━━━━━\u001b[0m\u001b[37m\u001b[0m \u001b[1m23s\u001b[0m 2ms/step - loss: 3.5699 - val_loss: 3.4507 - learning_rate: 6.2500e-05\n",
            "Epoch 53/100\n",
            "\u001b[1m11043/11043\u001b[0m \u001b[32m━━━━━━━━━━━━━━━━━━━━\u001b[0m\u001b[37m\u001b[0m \u001b[1m21s\u001b[0m 2ms/step - loss: 3.5802 - val_loss: 3.4547 - learning_rate: 6.2500e-05\n",
            "Epoch 54/100\n",
            "\u001b[1m11043/11043\u001b[0m \u001b[32m━━━━━━━━━━━━━━━━━━━━\u001b[0m\u001b[37m\u001b[0m \u001b[1m23s\u001b[0m 2ms/step - loss: 3.5246 - val_loss: 3.4510 - learning_rate: 6.2500e-05\n",
            "Epoch 55/100\n",
            "\u001b[1m11043/11043\u001b[0m \u001b[32m━━━━━━━━━━━━━━━━━━━━\u001b[0m\u001b[37m\u001b[0m \u001b[1m21s\u001b[0m 2ms/step - loss: 3.5579 - val_loss: 3.4464 - learning_rate: 6.2500e-05\n",
            "Epoch 56/100\n",
            "\u001b[1m11043/11043\u001b[0m \u001b[32m━━━━━━━━━━━━━━━━━━━━\u001b[0m\u001b[37m\u001b[0m \u001b[1m42s\u001b[0m 2ms/step - loss: 3.5991 - val_loss: 3.4449 - learning_rate: 6.2500e-05\n",
            "Epoch 57/100\n",
            "\u001b[1m11043/11043\u001b[0m \u001b[32m━━━━━━━━━━━━━━━━━━━━\u001b[0m\u001b[37m\u001b[0m \u001b[1m24s\u001b[0m 2ms/step - loss: 3.5625 - val_loss: 3.4434 - learning_rate: 3.1250e-05\n",
            "Epoch 58/100\n",
            "\u001b[1m11043/11043\u001b[0m \u001b[32m━━━━━━━━━━━━━━━━━━━━\u001b[0m\u001b[37m\u001b[0m \u001b[1m39s\u001b[0m 2ms/step - loss: 3.5836 - val_loss: 3.4515 - learning_rate: 3.1250e-05\n",
            "Epoch 59/100\n",
            "\u001b[1m11043/11043\u001b[0m \u001b[32m━━━━━━━━━━━━━━━━━━━━\u001b[0m\u001b[37m\u001b[0m \u001b[1m41s\u001b[0m 2ms/step - loss: 3.5752 - val_loss: 3.4434 - learning_rate: 3.1250e-05\n",
            "Epoch 60/100\n",
            "\u001b[1m11043/11043\u001b[0m \u001b[32m━━━━━━━━━━━━━━━━━━━━\u001b[0m\u001b[37m\u001b[0m \u001b[1m24s\u001b[0m 2ms/step - loss: 3.5917 - val_loss: 3.4470 - learning_rate: 3.1250e-05\n",
            "Epoch 61/100\n",
            "\u001b[1m11043/11043\u001b[0m \u001b[32m━━━━━━━━━━━━━━━━━━━━\u001b[0m\u001b[37m\u001b[0m \u001b[1m40s\u001b[0m 2ms/step - loss: 3.5635 - val_loss: 3.4405 - learning_rate: 3.1250e-05\n",
            "Epoch 62/100\n",
            "\u001b[1m11043/11043\u001b[0m \u001b[32m━━━━━━━━━━━━━━━━━━━━\u001b[0m\u001b[37m\u001b[0m \u001b[1m41s\u001b[0m 2ms/step - loss: 3.5258 - val_loss: 3.4460 - learning_rate: 3.1250e-05\n",
            "Epoch 63/100\n",
            "\u001b[1m11043/11043\u001b[0m \u001b[32m━━━━━━━━━━━━━━━━━━━━\u001b[0m\u001b[37m\u001b[0m \u001b[1m23s\u001b[0m 2ms/step - loss: 3.5962 - val_loss: 3.4444 - learning_rate: 3.1250e-05\n",
            "Epoch 64/100\n",
            "\u001b[1m11043/11043\u001b[0m \u001b[32m━━━━━━━━━━━━━━━━━━━━\u001b[0m\u001b[37m\u001b[0m \u001b[1m38s\u001b[0m 2ms/step - loss: 3.5462 - val_loss: 3.4411 - learning_rate: 3.1250e-05\n",
            "Epoch 65/100\n",
            "\u001b[1m11043/11043\u001b[0m \u001b[32m━━━━━━━━━━━━━━━━━━━━\u001b[0m\u001b[37m\u001b[0m \u001b[1m23s\u001b[0m 2ms/step - loss: 3.5605 - val_loss: 3.4414 - learning_rate: 3.1250e-05\n",
            "Epoch 66/100\n",
            "\u001b[1m11043/11043\u001b[0m \u001b[32m━━━━━━━━━━━━━━━━━━━━\u001b[0m\u001b[37m\u001b[0m \u001b[1m41s\u001b[0m 2ms/step - loss: 3.5812 - val_loss: 3.4496 - learning_rate: 3.1250e-05\n",
            "Epoch 67/100\n",
            "\u001b[1m11043/11043\u001b[0m \u001b[32m━━━━━━━━━━━━━━━━━━━━\u001b[0m\u001b[37m\u001b[0m \u001b[1m40s\u001b[0m 2ms/step - loss: 3.5712 - val_loss: 3.4431 - learning_rate: 1.5625e-05\n",
            "Epoch 68/100\n",
            "\u001b[1m11043/11043\u001b[0m \u001b[32m━━━━━━━━━━━━━━━━━━━━\u001b[0m\u001b[37m\u001b[0m \u001b[1m41s\u001b[0m 2ms/step - loss: 3.5495 - val_loss: 3.4407 - learning_rate: 1.5625e-05\n",
            "Epoch 69/100\n",
            "\u001b[1m11043/11043\u001b[0m \u001b[32m━━━━━━━━━━━━━━━━━━━━\u001b[0m\u001b[37m\u001b[0m \u001b[1m40s\u001b[0m 2ms/step - loss: 3.5619 - val_loss: 3.4434 - learning_rate: 1.5625e-05\n",
            "Epoch 70/100\n",
            "\u001b[1m11043/11043\u001b[0m \u001b[32m━━━━━━━━━━━━━━━━━━━━\u001b[0m\u001b[37m\u001b[0m \u001b[1m23s\u001b[0m 2ms/step - loss: 3.5603 - val_loss: 3.4400 - learning_rate: 1.5625e-05\n",
            "Epoch 71/100\n",
            "\u001b[1m11043/11043\u001b[0m \u001b[32m━━━━━━━━━━━━━━━━━━━━\u001b[0m\u001b[37m\u001b[0m \u001b[1m24s\u001b[0m 2ms/step - loss: 3.5536 - val_loss: 3.4432 - learning_rate: 1.5625e-05\n",
            "Epoch 72/100\n",
            "\u001b[1m11043/11043\u001b[0m \u001b[32m━━━━━━━━━━━━━━━━━━━━\u001b[0m\u001b[37m\u001b[0m \u001b[1m41s\u001b[0m 2ms/step - loss: 3.5928 - val_loss: 3.4391 - learning_rate: 1.5625e-05\n",
            "Epoch 73/100\n",
            "\u001b[1m11043/11043\u001b[0m \u001b[32m━━━━━━━━━━━━━━━━━━━━\u001b[0m\u001b[37m\u001b[0m \u001b[1m21s\u001b[0m 2ms/step - loss: 3.5516 - val_loss: 3.4432 - learning_rate: 1.5625e-05\n",
            "Epoch 74/100\n",
            "\u001b[1m11043/11043\u001b[0m \u001b[32m━━━━━━━━━━━━━━━━━━━━\u001b[0m\u001b[37m\u001b[0m \u001b[1m21s\u001b[0m 2ms/step - loss: 3.5756 - val_loss: 3.4418 - learning_rate: 1.5625e-05\n",
            "Epoch 75/100\n",
            "\u001b[1m11043/11043\u001b[0m \u001b[32m━━━━━━━━━━━━━━━━━━━━\u001b[0m\u001b[37m\u001b[0m \u001b[1m43s\u001b[0m 2ms/step - loss: 3.5624 - val_loss: 3.4426 - learning_rate: 1.5625e-05\n",
            "Epoch 76/100\n",
            "\u001b[1m11043/11043\u001b[0m \u001b[32m━━━━━━━━━━━━━━━━━━━━\u001b[0m\u001b[37m\u001b[0m \u001b[1m23s\u001b[0m 2ms/step - loss: 3.5516 - val_loss: 3.4393 - learning_rate: 1.5625e-05\n",
            "Epoch 77/100\n",
            "\u001b[1m11043/11043\u001b[0m \u001b[32m━━━━━━━━━━━━━━━━━━━━\u001b[0m\u001b[37m\u001b[0m \u001b[1m21s\u001b[0m 2ms/step - loss: 3.5405 - val_loss: 3.4396 - learning_rate: 1.5625e-05\n",
            "Epoch 78/100\n",
            "\u001b[1m11043/11043\u001b[0m \u001b[32m━━━━━━━━━━━━━━━━━━━━\u001b[0m\u001b[37m\u001b[0m \u001b[1m43s\u001b[0m 2ms/step - loss: 3.5328 - val_loss: 3.4429 - learning_rate: 7.8125e-06\n",
            "Epoch 79/100\n",
            "\u001b[1m11043/11043\u001b[0m \u001b[32m━━━━━━━━━━━━━━━━━━━━\u001b[0m\u001b[37m\u001b[0m \u001b[1m39s\u001b[0m 2ms/step - loss: 3.5341 - val_loss: 3.4416 - learning_rate: 7.8125e-06\n",
            "Epoch 80/100\n",
            "\u001b[1m11043/11043\u001b[0m \u001b[32m━━━━━━━━━━━━━━━━━━━━\u001b[0m\u001b[37m\u001b[0m \u001b[1m24s\u001b[0m 2ms/step - loss: 3.5467 - val_loss: 3.4428 - learning_rate: 7.8125e-06\n",
            "Epoch 81/100\n",
            "\u001b[1m11043/11043\u001b[0m \u001b[32m━━━━━━━━━━━━━━━━━━━━\u001b[0m\u001b[37m\u001b[0m \u001b[1m23s\u001b[0m 2ms/step - loss: 3.5342 - val_loss: 3.4426 - learning_rate: 7.8125e-06\n",
            "Epoch 82/100\n",
            "\u001b[1m11043/11043\u001b[0m \u001b[32m━━━━━━━━━━━━━━━━━━━━\u001b[0m\u001b[37m\u001b[0m \u001b[1m21s\u001b[0m 2ms/step - loss: 3.5669 - val_loss: 3.4415 - learning_rate: 7.8125e-06\n"
          ]
        }
      ]
    },
    {
      "cell_type": "code",
      "source": [
        "ann_predictions = ann_model.predict(X_test_scaled)\n",
        "ann_rmse = np.sqrt(mean_squared_error(y_test, ann_predictions))"
      ],
      "metadata": {
        "colab": {
          "base_uri": "https://localhost:8080/"
        },
        "id": "XjrzdCq5JYx3",
        "outputId": "1aeebe9d-07bd-4a30-b824-35577574aa54"
      },
      "execution_count": 39,
      "outputs": [
        {
          "output_type": "stream",
          "name": "stdout",
          "text": [
            "\u001b[1m1079/1079\u001b[0m \u001b[32m━━━━━━━━━━━━━━━━━━━━\u001b[0m\u001b[37m\u001b[0m \u001b[1m3s\u001b[0m 2ms/step\n"
          ]
        },
        {
          "output_type": "execute_result",
          "data": {
            "text/plain": [
              "7282"
            ]
          },
          "metadata": {},
          "execution_count": 39
        }
      ]
    },
    {
      "cell_type": "code",
      "source": [
        "# Plotting the loss\n",
        "\n",
        "print(f\"ANN RMSE: {ann_rmse:.4f}\")\n",
        "plt.figure(figsize=(10, 6))\n",
        "plt.plot(history.history['loss'], label='Training Loss')\n",
        "plt.plot(history.history['val_loss'], label='Validation Loss')\n",
        "plt.title('Model Loss During Training')\n",
        "plt.xlabel('Epochs')\n",
        "plt.ylabel('Loss')\n",
        "plt.legend()\n",
        "plt.grid()\n",
        "plt.show()"
      ],
      "metadata": {
        "colab": {
          "base_uri": "https://localhost:8080/",
          "height": 581
        },
        "id": "y07POnax-fnq",
        "outputId": "a4e30e14-31f2-4085-fbc4-c365c8a7b0e7"
      },
      "execution_count": 40,
      "outputs": [
        {
          "output_type": "stream",
          "name": "stdout",
          "text": [
            "ANN RMSE: 1.8501\n"
          ]
        },
        {
          "output_type": "display_data",
          "data": {
            "text/plain": [
              "<Figure size 1000x600 with 1 Axes>"
            ],
            "image/png": "[encoded data removed]"
          },
          "metadata": {}
        }
      ]
    }
  ]
}